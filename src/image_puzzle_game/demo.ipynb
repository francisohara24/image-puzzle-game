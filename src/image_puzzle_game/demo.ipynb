{
 "cells": [
  {
   "cell_type": "markdown",
   "source": [
    "# Welcome to the Image Puzzle Game"
   ],
   "metadata": {
    "collapsed": false
   },
   "id": "a89e1c4fdb74b066"
  },
  {
   "cell_type": "code",
   "execution_count": 1,
   "outputs": [
    {
     "name": "stdout",
     "output_type": "stream",
     "text": [
      "\u001B[31mERROR: Could not find a version that satisfies the requirement image-puzzle-game (from versions: none)\u001B[0m\u001B[31m\r\n",
      "\u001B[0m\u001B[31mERROR: No matching distribution found for image-puzzle-game\u001B[0m\u001B[31m\r\n",
      "\u001B[0m\r\n",
      "\u001B[1m[\u001B[0m\u001B[34;49mnotice\u001B[0m\u001B[1;39;49m]\u001B[0m\u001B[39;49m A new release of pip available: \u001B[0m\u001B[31;49m22.3.1\u001B[0m\u001B[39;49m -> \u001B[0m\u001B[32;49m23.3.1\u001B[0m\r\n",
      "\u001B[1m[\u001B[0m\u001B[34;49mnotice\u001B[0m\u001B[1;39;49m]\u001B[0m\u001B[39;49m To update, run: \u001B[0m\u001B[32;49mpip install --upgrade pip\u001B[0m\r\n"
     ]
    },
    {
     "ename": "ModuleNotFoundError",
     "evalue": "No module named 'image_puzzle_game'",
     "output_type": "error",
     "traceback": [
      "\u001B[0;31m---------------------------------------------------------------------------\u001B[0m",
      "\u001B[0;31mModuleNotFoundError\u001B[0m                       Traceback (most recent call last)",
      "Cell \u001B[0;32mIn[1], line 10\u001B[0m\n\u001B[1;32m      1\u001B[0m get_ipython()\u001B[38;5;241m.\u001B[39msystem(\u001B[38;5;124m'\u001B[39m\u001B[38;5;124mpip install image-puzzle-game\u001B[39m\u001B[38;5;124m'\u001B[39m)\n\u001B[1;32m      2\u001B[0m \u001B[38;5;124;03m\"\"\"\u001B[39;00m\n\u001B[1;32m      3\u001B[0m \u001B[38;5;124;03m██████╗ ██╗      █████╗ ██╗   ██╗\u001B[39;00m\n\u001B[1;32m      4\u001B[0m \u001B[38;5;124;03m██╔══██╗██║     ██╔══██╗╚██╗ ██╔╝\u001B[39;00m\n\u001B[0;32m   (...)\u001B[0m\n\u001B[1;32m      8\u001B[0m \u001B[38;5;124;03m╚═╝     ╚══════╝╚═╝  ╚═╝   ╚═╝\u001B[39;00m\n\u001B[1;32m      9\u001B[0m \u001B[38;5;124;03m\"\"\"\u001B[39;00m\n\u001B[0;32m---> 10\u001B[0m \u001B[38;5;28;01mfrom\u001B[39;00m \u001B[38;5;21;01mimage_puzzle_game\u001B[39;00m\u001B[38;5;21;01m.\u001B[39;00m\u001B[38;5;21;01mgame\u001B[39;00m \u001B[38;5;28;01mimport\u001B[39;00m play\n\u001B[1;32m     11\u001B[0m play()\n",
      "\u001B[0;31mModuleNotFoundError\u001B[0m: No module named 'image_puzzle_game'"
     ]
    }
   ],
   "source": [
    "# -----------------------SETUP--------------------------\n",
    "!pip install image-puzzle-game\n"
   ],
   "metadata": {
    "collapsed": false,
    "ExecuteTime": {
     "end_time": "2023-10-29T18:25:03.101701Z",
     "start_time": "2023-10-29T18:25:01.178956Z"
    }
   },
   "id": "adb56a9e569cbf47"
  },
  {
   "cell_type": "code",
   "execution_count": null,
   "outputs": [],
   "source": [
    "\"\"\"\n",
    "██████╗ ██╗      █████╗ ██╗   ██╗\n",
    "██╔══██╗██║     ██╔══██╗╚██╗ ██╔╝\n",
    "██████╔╝██║     ███████║ ╚████╔╝ \n",
    "██╔═══╝ ██║     ██╔══██║  ╚██╔╝  \n",
    "██║     ███████╗██║  ██║   ██║   \n",
    "╚═╝     ╚══════╝╚═╝  ╚═╝   ╚═╝                                    \n",
    "\"\"\"\n",
    "from image_puzzle_game.game import play\n",
    "play()"
   ],
   "metadata": {
    "collapsed": false
   },
   "id": "c59a401934400085"
  }
 ],
 "metadata": {
  "kernelspec": {
   "display_name": "Python 3",
   "language": "python",
   "name": "python3"
  },
  "language_info": {
   "codemirror_mode": {
    "name": "ipython",
    "version": 2
   },
   "file_extension": ".py",
   "mimetype": "text/x-python",
   "name": "python",
   "nbconvert_exporter": "python",
   "pygments_lexer": "ipython2",
   "version": "2.7.6"
  }
 },
 "nbformat": 4,
 "nbformat_minor": 5
}
