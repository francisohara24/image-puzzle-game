{
 "cells": [
  {
   "cell_type": "markdown",
   "source": [
    "# Welcome to the Image Puzzle Game"
   ],
   "metadata": {
    "collapsed": false
   },
   "id": "a89e1c4fdb74b066"
  },
  {
   "cell_type": "code",
   "execution_count": null,
   "outputs": [],
   "source": [
    "# -----------------------SETUP--------------------------\n",
    "!pip install image-puzzle-game\n",
    "from PIL import Image\n",
    "from PIL.ImageDraw import ImageDraw\n",
    "from random import randint\n",
    "from time import sleep"
   ],
   "metadata": {
    "collapsed": false
   },
   "id": "adb56a9e569cbf47"
  },
  {
   "cell_type": "code",
   "execution_count": null,
   "outputs": [],
   "source": [
    "\"\"\"\n",
    "██████╗ ██╗      █████╗ ██╗   ██╗\n",
    "██╔══██╗██║     ██╔══██╗╚██╗ ██╔╝\n",
    "██████╔╝██║     ███████║ ╚████╔╝ \n",
    "██╔═══╝ ██║     ██╔══██║  ╚██╔╝  \n",
    "██║     ███████╗██║  ██║   ██║   \n",
    "╚═╝     ╚══════╝╚═╝  ╚═╝   ╚═╝                                    \n",
    "\"\"\"\n",
    "from image_puzzle_game.game import play\n",
    "play()"
   ],
   "metadata": {
    "collapsed": false
   },
   "id": "c59a401934400085"
  }
 ],
 "metadata": {
  "kernelspec": {
   "display_name": "Python 3",
   "language": "python",
   "name": "python3"
  },
  "language_info": {
   "codemirror_mode": {
    "name": "ipython",
    "version": 2
   },
   "file_extension": ".py",
   "mimetype": "text/x-python",
   "name": "python",
   "nbconvert_exporter": "python",
   "pygments_lexer": "ipython2",
   "version": "2.7.6"
  }
 },
 "nbformat": 4,
 "nbformat_minor": 5
}
